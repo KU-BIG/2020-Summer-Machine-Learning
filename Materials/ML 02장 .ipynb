{
 "cells": [
  {
   "cell_type": "code",
   "execution_count": null,
   "metadata": {},
   "outputs": [],
   "source": [
    "# 범주형 자료의 수량화 =====================================================\n",
    "x=[{'city':'seoul','temp':10.0}, {'city':'Dubai', 'temp':33.5}, {'city':'LA','temp':20.0}]\n",
    "x"
   ]
  },
  {
   "cell_type": "code",
   "execution_count": null,
   "metadata": {},
   "outputs": [],
   "source": [
    "from sklearn.feature_extraction import DictVectorizer\n",
    "vec=DictVectorizer(sparse=False)\n",
    "vec.fit_transform(x) # X를 범주형 수량화 자료로 변환"
   ]
  },
  {
   "cell_type": "code",
   "execution_count": null,
   "metadata": {},
   "outputs": [],
   "source": [
    "vec1=DictVectorizer(sparse=True) # 메모리를 줄이기 위해 sparse=True\n",
    "x1=vec1.fit_transform(x)\n",
    "x1"
   ]
  },
  {
   "cell_type": "code",
   "execution_count": null,
   "metadata": {},
   "outputs": [],
   "source": [
    "x1.toarray() # 배열로 변경\n",
    "vec1.get_feature_names()"
   ]
  },
  {
   "cell_type": "code",
   "execution_count": null,
   "metadata": {},
   "outputs": [],
   "source": [
    "# 텍스트 자료의 수량화 =====================================================\n",
    "text=['떴다 떴다 비행기 날아라 날아라',\n",
    "      '높이 높이 날아라 우리 비행기',\n",
    "      '내가 만든 비행기 날아라 날아라',\n",
    "      '멀리 멀리 날아라 우리 비행기']\n",
    "text"
   ]
  },
  {
   "cell_type": "code",
   "execution_count": null,
   "metadata": {},
   "outputs": [],
   "source": [
    "from sklearn.feature_extraction.text import CountVectorizer\n",
    "vec2 = CountVectorizer()\n",
    "t=vec2.fit_transform(text).toarray() # text를 수량화 배열 자료로 변환\n",
    "import pandas as pd\n",
    "t1=pd.DataFrame(t, columns=vec2.get_feature_names())\n",
    "t1"
   ]
  },
  {
   "cell_type": "code",
   "execution_count": null,
   "metadata": {},
   "outputs": [],
   "source": [
    "from sklearn.feature_extraction.text import TfidfVectorizer\n",
    "tfid=TfidfVectorizer()\n",
    "x2=tfid.fit_transform(text).toarray() # 높은 빈도는 낮은 가중치, 낮은 빈도는 높은 가중치\n",
    "x3=pd.DataFrame(x2,columns=tfid.get_feature_names())\n",
    "x3"
   ]
  },
  {
   "cell_type": "code",
   "execution_count": null,
   "metadata": {},
   "outputs": [],
   "source": [
    "# Polynomial 특성변수 생성 =====================================================\n",
    "import matplotlib.pyplot as plt\n",
    "import numpy as np\n",
    "x=np.array([1,2,3,4,5])\n",
    "y=np.array([5,3,1,5,8])\n",
    "plt.plot(x,y,'o') # 선형회귀를 하기에는 부적합"
   ]
  },
  {
   "cell_type": "code",
   "execution_count": null,
   "metadata": {},
   "outputs": [],
   "source": [
    "from sklearn.preprocessing import PolynomialFeatures\n",
    "fg=PolynomialFeatures(degree=3, include_bias=True) # include_bias는 절편항 여부\n",
    "x1=fg.fit_transform(x[:,np.newaxis]) # 3차까지 생성\n",
    "print(x1)"
   ]
  },
  {
   "cell_type": "code",
   "execution_count": null,
   "metadata": {},
   "outputs": [],
   "source": [
    "from sklearn.linear_model import LinearRegression\n",
    "reg=LinearRegression()\n",
    "reg.fit(x1,y) \n",
    "yfit=reg.predict(x1) # 적합값 \n",
    "plt.plot(x,y,'ko',label='origin') # ko는 검은색 동그라미\n",
    "plt.plot(x,yfit,'rs-',label='fitted') # rs-는 빨간색 네모를 줄로 잇기\n",
    "plt.legend(loc='best') # 범주를 제일 적절한 곳으로"
   ]
  },
  {
   "cell_type": "code",
   "execution_count": null,
   "metadata": {},
   "outputs": [],
   "source": [
    "# 결측자료 대체 ===================================================== \n",
    "x_miss=np.array([[1,2,3,None],[5,np.NAN,7,8],[None,10,11,12],[13,np.nan,15,16]])\n",
    "x_miss"
   ]
  },
  {
   "cell_type": "code",
   "execution_count": null,
   "metadata": {},
   "outputs": [],
   "source": [
    "from sklearn.preprocessing import Imputer\n",
    "im=Imputer(strategy='mean') \n",
    "im.fit_transform(x_miss) # 열의 평균값으로 대체"
   ]
  },
  {
   "cell_type": "code",
   "execution_count": null,
   "metadata": {},
   "outputs": [],
   "source": [
    "# 특성변수 생성(교호작용까지)과 결측자료 대체까지 한번에 해주려면 pipeline 이용.\n",
    "import pandas as pd\n",
    "from sklearn.pipeline import make_pipeline\n",
    "from sklearn.linear_model import LinearRegression\n",
    "from sklearn.preprocessing import PolynomialFeatures\n",
    "from sklearn.preprocessing import Imputer\n",
    "y=pd.Series([2,5,1,6])\n",
    "model = make_pipeline(Imputer(strategy='mean'),PolynomialFeatures(degree=2),LinearRegression())\n",
    "model.fit(x_miss,y)\n",
    "model.predict(x_miss) # 이 자료에서는 관측치는 4개, 특성변수 14개로 완전적합됨. "
   ]
  },
  {
   "cell_type": "code",
   "execution_count": null,
   "metadata": {},
   "outputs": [],
   "source": [
    "#www.kaggle.com 으로 들어간 후 새로운 account를 생성하고 \n",
    "#www.kaggle.com/c/rossmann-store-sales/data 에서 자료를 다운받는다. \n",
    "#zip을 풀어서 적절한 폴더(이경우 머신러닝교재)\n",
    "import pandas as pd\n",
    "df1=pd.read_csv(\"C:/Users/mjsung1023/Desktop/python/train.csv\",engine='python')"
   ]
  },
  {
   "cell_type": "code",
   "execution_count": null,
   "metadata": {},
   "outputs": [],
   "source": [
    "df1.shape ## 괄호 없어야함"
   ]
  },
  {
   "cell_type": "code",
   "execution_count": null,
   "metadata": {},
   "outputs": [],
   "source": [
    "type(df1) ## 자주쓰는게 좋다"
   ]
  },
  {
   "cell_type": "code",
   "execution_count": null,
   "metadata": {},
   "outputs": [],
   "source": [
    "df1.head()"
   ]
  },
  {
   "cell_type": "code",
   "execution_count": null,
   "metadata": {},
   "outputs": [],
   "source": [
    "df2=pd.read_csv(\"C:/Users/mjsung1023/Desktop/python/store.csv\",engine='python')\n",
    "df2.shape"
   ]
  },
  {
   "cell_type": "code",
   "execution_count": null,
   "metadata": {},
   "outputs": [],
   "source": [
    "df2.head()"
   ]
  },
  {
   "cell_type": "code",
   "execution_count": null,
   "metadata": {},
   "outputs": [],
   "source": [
    "df=pd.merge(df1,df2,on='Store')\n",
    "df.shape"
   ]
  },
  {
   "cell_type": "code",
   "execution_count": null,
   "metadata": {},
   "outputs": [],
   "source": [
    "df.dtypes"
   ]
  },
  {
   "cell_type": "code",
   "execution_count": null,
   "metadata": {},
   "outputs": [],
   "source": [
    "print(len(df['Store'].unique()))\n",
    "print(len(df['Date'].unique()))\n",
    "print(df['DayOfWeek'].value_counts())"
   ]
  },
  {
   "cell_type": "code",
   "execution_count": null,
   "metadata": {},
   "outputs": [],
   "source": [
    "import numpy as np\n",
    "df['Date']=pd.to_datetime(df['Date'],infer_datetime_format=True) ##년.월.일 data를 각각으로 쪼개기 위함\n",
    "df['Month']=df['Date'].dt.month\n",
    "df['Quarter']=df['Date'].dt.quarter\n",
    "df['Year']=df['Date'].dt.year\n",
    "df['Day']=df['Date'].dt.day\n",
    "df['Week']=df['Date'].dt.week\n",
    "df['Season']=np.where(df['Month'].isin([3,4,5]),'Spring',\n",
    "                     np.where(df['Month'].isin([6,7,8]),'Summer',\n",
    "                             np.where(df['Month'].isin([9,10,11]),'fall',\n",
    "                                     np.where(df['Month'].isin([12,1,2]),'winter','None'))))\n",
    "print(df[['Date','Year','Month','Day','Week','Quarter','Season']].head())"
   ]
  },
  {
   "cell_type": "code",
   "execution_count": null,
   "metadata": {},
   "outputs": [],
   "source": [
    "## np.where(A,a,b) A 이면 a, 아니면 b"
   ]
  },
  {
   "cell_type": "code",
   "execution_count": null,
   "metadata": {},
   "outputs": [],
   "source": [
    "df.hist(figsize=(20,10))"
   ]
  },
  {
   "cell_type": "code",
   "execution_count": null,
   "metadata": {},
   "outputs": [],
   "source": [
    "df.isnull().sum()/df.shape[0]*100"
   ]
  },
  {
   "cell_type": "code",
   "execution_count": null,
   "metadata": {},
   "outputs": [],
   "source": [
    "## 90% 이상이 아니면 버리는게 맞음"
   ]
  },
  {
   "cell_type": "code",
   "execution_count": null,
   "metadata": {},
   "outputs": [],
   "source": [
    "df['CompetitionDistance']=df['CompetitionDistance'].fillna(df['CompetitionDistance'].mode()[0])\n",
    "df['CompetitionDistance'].isnull().sum()"
   ]
  },
  {
   "cell_type": "code",
   "execution_count": null,
   "metadata": {},
   "outputs": [],
   "source": [
    "from sklearn.preprocessing import LabelEncoder,OneHotEncoder\n",
    "n_columns=['Customers','Open','Promo','Promo2','StateHoliday','SchoolHoliday','CompetitionDistance']\n",
    "categ_columns=['DayOfWeek','Quarter','Month','Year','StoreType','Assortment','Season']"
   ]
  },
  {
   "cell_type": "code",
   "execution_count": null,
   "metadata": {},
   "outputs": [],
   "source": [
    "def dummy(data,col):\n",
    "   lab=LabelEncoder() #0~c-1로 클래스 부여\n",
    "   aa=lab.fit_transform(data[col]).reshape(-1,1)\n",
    "   ohe=OneHotEncoder(sparse=False)\n",
    "   column_names=[col+'_'+ str(i) for i in lab.classes_]\n",
    "   return(pd.DataFrame(ohe.fit_transform(aa),columns=column_names))"
   ]
  },
  {
   "cell_type": "code",
   "execution_count": null,
   "metadata": {},
   "outputs": [],
   "source": [
    "fdata=df[n_columns]\n",
    "for column in categ_columns:\n",
    "    temp_df=dummy(df,column)\n",
    "    fdata=pd.concat([fdata,temp_df],axis=1)\n",
    "fdata.head()"
   ]
  },
  {
   "cell_type": "code",
   "execution_count": null,
   "metadata": {},
   "outputs": [],
   "source": [
    "fdata.shape"
   ]
  },
  {
   "cell_type": "code",
   "execution_count": null,
   "metadata": {},
   "outputs": [],
   "source": [
    "fdata.dtypes.unique()"
   ]
  },
  {
   "cell_type": "code",
   "execution_count": null,
   "metadata": {},
   "outputs": [],
   "source": [
    "fdata['StateHoliday'].unique()"
   ]
  },
  {
   "cell_type": "code",
   "execution_count": null,
   "metadata": {},
   "outputs": [],
   "source": [
    "fdata['StateHoliday']=np.where(fdata['StateHoliday']=='o',0,1)"
   ]
  },
  {
   "cell_type": "code",
   "execution_count": 5,
   "metadata": {},
   "outputs": [
    {
     "name": "stdout",
     "output_type": "stream",
     "text": [
      "C:\\Users\\mjsung1023\\Anaconda3\\python.exe\n"
     ]
    }
   ],
   "source": [
    "from sys import executable\n",
    "print(executable)"
   ]
  },
  {
   "cell_type": "code",
   "execution_count": 6,
   "metadata": {},
   "outputs": [
    {
     "name": "stdout",
     "output_type": "stream",
     "text": [
      "Collecting imblearn\n",
      "  Downloading https://files.pythonhosted.org/packages/81/a7/4179e6ebfd654bd0eac0b9c06125b8b4c96a9d0a8ff9e9507eb2a26d2d7e/imblearn-0.0-py2.py3-none-any.whl\n",
      "Collecting imbalanced-learn (from imblearn)\n",
      "  Downloading https://files.pythonhosted.org/packages/e6/62/08c14224a7e242df2cef7b312d2ef821c3931ec9b015ff93bb52ec8a10a3/imbalanced_learn-0.5.0-py3-none-any.whl (173kB)\n",
      "Requirement already satisfied: scipy>=0.17 in c:\\users\\mjsung1023\\anaconda3\\lib\\site-packages (from imbalanced-learn->imblearn) (1.2.1)\n",
      "Requirement already satisfied: numpy>=1.11 in c:\\users\\mjsung1023\\anaconda3\\lib\\site-packages (from imbalanced-learn->imblearn) (1.16.4)\n",
      "Requirement already satisfied: joblib>=0.11 in c:\\users\\mjsung1023\\anaconda3\\lib\\site-packages (from imbalanced-learn->imblearn) (0.13.2)\n",
      "Requirement already satisfied: scikit-learn>=0.21 in c:\\users\\mjsung1023\\anaconda3\\lib\\site-packages (from imbalanced-learn->imblearn) (0.21.2)\n",
      "Installing collected packages: imbalanced-learn, imblearn\n",
      "Successfully installed imbalanced-learn-0.5.0 imblearn-0.0\n"
     ]
    }
   ],
   "source": [
    "# !pip install imblearn"
   ]
  },
  {
   "cell_type": "code",
   "execution_count": 11,
   "metadata": {},
   "outputs": [],
   "source": [
    "import matplotlib.pyplot as plt"
   ]
  },
  {
   "cell_type": "code",
   "execution_count": 7,
   "metadata": {},
   "outputs": [
    {
     "name": "stdout",
     "output_type": "stream",
     "text": [
      "Original dataset shape Counter({2: 1795, 1: 141, 0: 64})\n"
     ]
    }
   ],
   "source": [
    "from collections import Counter\n",
    "from sklearn.datasets import make_classification\n",
    "from imblearn.over_sampling import SMOTE, ADASYN\n",
    "X, y = make_classification(n_classes=3, weights=[0.03, 0.07,0.9],n_features=10, \n",
    "                           n_clusters_per_class=1, n_samples=2000, random_state=10)\n",
    "print('Original dataset shape %s' % Counter(y))  "
   ]
  },
  {
   "cell_type": "code",
   "execution_count": 8,
   "metadata": {},
   "outputs": [
    {
     "name": "stdout",
     "output_type": "stream",
     "text": [
      "Resampled dataset shape Counter({2: 1795, 1: 1795, 0: 1795})\n"
     ]
    }
   ],
   "source": [
    "sm = SMOTE(random_state=42)\n",
    "X_res, y_res = sm.fit_resample(X, y)\n",
    "print('Resampled dataset shape %s' % Counter(y_res))"
   ]
  },
  {
   "cell_type": "code",
   "execution_count": 9,
   "metadata": {},
   "outputs": [
    {
     "name": "stdout",
     "output_type": "stream",
     "text": [
      "Resampled dataset shape from ADASYN Counter({1: 1805, 2: 1795, 0: 1795})\n"
     ]
    }
   ],
   "source": [
    "ada=ADASYN(random_state=0)\n",
    "X_syn,y_syn=ada.fit_resample(X,y)\n",
    "print('Resampled dataset shape from ADASYN %s' % Counter(y_syn))"
   ]
  }
 ],
 "metadata": {
  "kernelspec": {
   "display_name": "Python 3",
   "language": "python",
   "name": "python3"
  },
  "language_info": {
   "codemirror_mode": {
    "name": "ipython",
    "version": 3
   },
   "file_extension": ".py",
   "mimetype": "text/x-python",
   "name": "python",
   "nbconvert_exporter": "python",
   "pygments_lexer": "ipython3",
   "version": "3.7.4"
  }
 },
 "nbformat": 4,
 "nbformat_minor": 2
}
